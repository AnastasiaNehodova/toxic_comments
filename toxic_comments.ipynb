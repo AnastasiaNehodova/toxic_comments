{
 "cells": [
  {
   "cell_type": "markdown",
   "metadata": {
    "toc": true
   },
   "source": [
    "<h1>Содержание<span class=\"tocSkip\"></span></h1>\n",
    "<div class=\"toc\"><ul class=\"toc-item\"><li><span><a href=\"#Подготовка\" data-toc-modified-id=\"Подготовка-1\"><span class=\"toc-item-num\">1&nbsp;&nbsp;</span>Подготовка</a></span></li><li><span><a href=\"#Обучение\" data-toc-modified-id=\"Обучение-2\"><span class=\"toc-item-num\">2&nbsp;&nbsp;</span>Обучение</a></span><ul class=\"toc-item\"><li><span><a href=\"#Разделение-на-train-/-test-выборки\" data-toc-modified-id=\"Разделение-на-train-/-test-выборки-2.1\"><span class=\"toc-item-num\">2.1&nbsp;&nbsp;</span>Разделение на train / test выборки</a></span></li><li><span><a href=\"#Мешок-слов\" data-toc-modified-id=\"Мешок-слов-2.2\"><span class=\"toc-item-num\">2.2&nbsp;&nbsp;</span>Мешок слов</a></span><ul class=\"toc-item\"><li><span><a href=\"#LogisticRegression\" data-toc-modified-id=\"LogisticRegression-2.2.1\"><span class=\"toc-item-num\">2.2.1&nbsp;&nbsp;</span>LogisticRegression</a></span></li><li><span><a href=\"#RandomForestClassifier\" data-toc-modified-id=\"RandomForestClassifier-2.2.2\"><span class=\"toc-item-num\">2.2.2&nbsp;&nbsp;</span>RandomForestClassifier</a></span></li><li><span><a href=\"#LGBMClassifier\" data-toc-modified-id=\"LGBMClassifier-2.2.3\"><span class=\"toc-item-num\">2.2.3&nbsp;&nbsp;</span>LGBMClassifier</a></span></li><li><span><a href=\"#Выводы\" data-toc-modified-id=\"Выводы-2.2.4\"><span class=\"toc-item-num\">2.2.4&nbsp;&nbsp;</span>Выводы</a></span></li></ul></li><li><span><a href=\"#TF-IDF\" data-toc-modified-id=\"TF-IDF-2.3\"><span class=\"toc-item-num\">2.3&nbsp;&nbsp;</span>TF-IDF</a></span><ul class=\"toc-item\"><li><span><a href=\"#LogisticRegression\" data-toc-modified-id=\"LogisticRegression-2.3.1\"><span class=\"toc-item-num\">2.3.1&nbsp;&nbsp;</span>LogisticRegression</a></span></li><li><span><a href=\"#LGBMClassifier\" data-toc-modified-id=\"LGBMClassifier-2.3.2\"><span class=\"toc-item-num\">2.3.2&nbsp;&nbsp;</span>LGBMClassifier</a></span></li><li><span><a href=\"#Выводы\" data-toc-modified-id=\"Выводы-2.3.3\"><span class=\"toc-item-num\">2.3.3&nbsp;&nbsp;</span>Выводы</a></span></li></ul></li></ul></li><li><span><a href=\"#Выводы\" data-toc-modified-id=\"Выводы-3\"><span class=\"toc-item-num\">3&nbsp;&nbsp;</span>Выводы</a></span></li></ul></div>"
   ]
  },
  {
   "cell_type": "markdown",
   "metadata": {},
   "source": [
    "**Описание данных**\n",
    "\n",
    "Данные находятся в файле `toxic_comments.csv`. Столбец *text* в нём содержит текст комментария, а *toxic* — целевой признак.\n",
    "\n",
    "**Цель**\n",
    "\n",
    "Выбрать модель для распознования токсичных комментариев."
   ]
  },
  {
   "cell_type": "markdown",
   "metadata": {},
   "source": [
    "Подготовку данных буду делать с помощью библиотеки nltk"
   ]
  },
  {
   "cell_type": "code",
   "execution_count": null,
   "metadata": {},
   "outputs": [],
   "source": [
    "#pip install nltk"
   ]
  },
  {
   "cell_type": "markdown",
   "metadata": {},
   "source": [
    "## Подготовка"
   ]
  },
  {
   "cell_type": "code",
   "execution_count": 1,
   "metadata": {},
   "outputs": [],
   "source": [
    "import numpy as np\n",
    "import pandas as pd\n",
    "import re\n",
    "from tqdm.auto import tqdm\n",
    "import nltk\n",
    "from nltk.corpus import stopwords, wordnet\n",
    "from nltk.stem import WordNetLemmatizer \n",
    "from nltk.tokenize import word_tokenize\n",
    "from sklearn.model_selection import train_test_split\n",
    "from sklearn.pipeline import Pipeline\n",
    "from sklearn.feature_extraction.text import CountVectorizer, TfidfVectorizer\n",
    "from sklearn.linear_model import LogisticRegression\n",
    "from sklearn.model_selection import RandomizedSearchCV, GridSearchCV\n",
    "from sklearn.ensemble import RandomForestClassifier\n",
    "from lightgbm import LGBMClassifier\n",
    "from sklearn.metrics import f1_score, precision_score, recall_score\n",
    "from sklearn.dummy import DummyClassifier\n",
    "import warnings\n",
    "warnings.filterwarnings(\"ignore\")"
   ]
  },
  {
   "cell_type": "code",
   "execution_count": 2,
   "metadata": {},
   "outputs": [
    {
     "name": "stderr",
     "output_type": "stream",
     "text": [
      "[nltk_data] Downloading package averaged_perceptron_tagger to\n",
      "[nltk_data]     C:\\Users\\Admin\\AppData\\Roaming\\nltk_data...\n",
      "[nltk_data]   Package averaged_perceptron_tagger is already up-to-\n",
      "[nltk_data]       date!\n",
      "[nltk_data] Downloading package stopwords to\n",
      "[nltk_data]     C:\\Users\\Admin\\AppData\\Roaming\\nltk_data...\n",
      "[nltk_data]   Package stopwords is already up-to-date!\n",
      "[nltk_data] Downloading package wordnet to\n",
      "[nltk_data]     C:\\Users\\Admin\\AppData\\Roaming\\nltk_data...\n",
      "[nltk_data]   Package wordnet is already up-to-date!\n"
     ]
    },
    {
     "data": {
      "text/plain": [
       "True"
      ]
     },
     "execution_count": 2,
     "metadata": {},
     "output_type": "execute_result"
    }
   ],
   "source": [
    "nltk.download('averaged_perceptron_tagger')\n",
    "nltk.download('stopwords')\n",
    "nltk.download('wordnet')"
   ]
  },
  {
   "cell_type": "markdown",
   "metadata": {},
   "source": [
    "Импортирую необходимые библиотеки и произвожу загрузки."
   ]
  },
  {
   "cell_type": "code",
   "execution_count": 3,
   "metadata": {},
   "outputs": [],
   "source": [
    "RANDOM_STATE = 42"
   ]
  },
  {
   "cell_type": "markdown",
   "metadata": {},
   "source": [
    "Задаю константу RANDOM_STATE для контроля случайности."
   ]
  },
  {
   "cell_type": "code",
   "execution_count": 4,
   "metadata": {},
   "outputs": [],
   "source": [
    "try:\n",
    "    df = pd.read_csv('/datasets/toxic_comments.csv', index_col=0)\n",
    "except:\n",
    "    df = pd.read_csv('...', index_col=0)"
   ]
  },
  {
   "cell_type": "code",
   "execution_count": 5,
   "metadata": {
    "scrolled": false
   },
   "outputs": [
    {
     "data": {
      "text/html": [
       "<div>\n",
       "<style scoped>\n",
       "    .dataframe tbody tr th:only-of-type {\n",
       "        vertical-align: middle;\n",
       "    }\n",
       "\n",
       "    .dataframe tbody tr th {\n",
       "        vertical-align: top;\n",
       "    }\n",
       "\n",
       "    .dataframe thead th {\n",
       "        text-align: right;\n",
       "    }\n",
       "</style>\n",
       "<table border=\"1\" class=\"dataframe\">\n",
       "  <thead>\n",
       "    <tr style=\"text-align: right;\">\n",
       "      <th></th>\n",
       "      <th>text</th>\n",
       "      <th>toxic</th>\n",
       "    </tr>\n",
       "  </thead>\n",
       "  <tbody>\n",
       "    <tr>\n",
       "      <th>0</th>\n",
       "      <td>Explanation\\nWhy the edits made under my usern...</td>\n",
       "      <td>0</td>\n",
       "    </tr>\n",
       "    <tr>\n",
       "      <th>1</th>\n",
       "      <td>D'aww! He matches this background colour I'm s...</td>\n",
       "      <td>0</td>\n",
       "    </tr>\n",
       "    <tr>\n",
       "      <th>2</th>\n",
       "      <td>Hey man, I'm really not trying to edit war. It...</td>\n",
       "      <td>0</td>\n",
       "    </tr>\n",
       "    <tr>\n",
       "      <th>3</th>\n",
       "      <td>\"\\nMore\\nI can't make any real suggestions on ...</td>\n",
       "      <td>0</td>\n",
       "    </tr>\n",
       "    <tr>\n",
       "      <th>4</th>\n",
       "      <td>You, sir, are my hero. Any chance you remember...</td>\n",
       "      <td>0</td>\n",
       "    </tr>\n",
       "  </tbody>\n",
       "</table>\n",
       "</div>"
      ],
      "text/plain": [
       "                                                text  toxic\n",
       "0  Explanation\\nWhy the edits made under my usern...      0\n",
       "1  D'aww! He matches this background colour I'm s...      0\n",
       "2  Hey man, I'm really not trying to edit war. It...      0\n",
       "3  \"\\nMore\\nI can't make any real suggestions on ...      0\n",
       "4  You, sir, are my hero. Any chance you remember...      0"
      ]
     },
     "execution_count": 5,
     "metadata": {},
     "output_type": "execute_result"
    }
   ],
   "source": [
    "df.head()"
   ]
  },
  {
   "cell_type": "code",
   "execution_count": 6,
   "metadata": {
    "scrolled": true
   },
   "outputs": [
    {
     "data": {
      "text/plain": [
       "(159292, 2)"
      ]
     },
     "execution_count": 6,
     "metadata": {},
     "output_type": "execute_result"
    }
   ],
   "source": [
    "df.shape"
   ]
  },
  {
   "cell_type": "code",
   "execution_count": 7,
   "metadata": {},
   "outputs": [
    {
     "name": "stdout",
     "output_type": "stream",
     "text": [
      "<class 'pandas.core.frame.DataFrame'>\n",
      "Int64Index: 159292 entries, 0 to 159450\n",
      "Data columns (total 2 columns):\n",
      " #   Column  Non-Null Count   Dtype \n",
      "---  ------  --------------   ----- \n",
      " 0   text    159292 non-null  object\n",
      " 1   toxic   159292 non-null  int64 \n",
      "dtypes: int64(1), object(1)\n",
      "memory usage: 3.6+ MB\n"
     ]
    }
   ],
   "source": [
    "df.info()"
   ]
  },
  {
   "cell_type": "markdown",
   "metadata": {},
   "source": [
    "Датасет имеет два столбца: text - текст комментария типа object, toxic - столбец разметки типа int64 (0 - комментарий нетоксичный, 1 - комментарий токсичный). Комментарии на английском языке. В датасете 159292 комментария. Пустых ячеек нет."
   ]
  },
  {
   "cell_type": "code",
   "execution_count": 8,
   "metadata": {},
   "outputs": [
    {
     "data": {
      "text/plain": [
       "нетоксичные    0.898388\n",
       "токсичные      0.101612\n",
       "Name: toxic, dtype: float64"
      ]
     },
     "execution_count": 8,
     "metadata": {},
     "output_type": "execute_result"
    }
   ],
   "source": [
    "den_toxic = df['toxic'].value_counts(normalize=True)\n",
    "den_toxic.index = ['нетоксичные', 'токсичные']\n",
    "den_toxic"
   ]
  },
  {
   "cell_type": "code",
   "execution_count": 9,
   "metadata": {
    "scrolled": false
   },
   "outputs": [
    {
     "data": {
      "image/png": "[encoded data removed]",
      "text/plain": [
       "<Figure size 900x600 with 1 Axes>"
      ]
     },
     "metadata": {},
     "output_type": "display_data"
    }
   ],
   "source": [
    "den_toxic.plot(kind='bar',\n",
    "               title='Распределение токсичных и нетоксичных комментариев', \n",
    "               figsize=(9, 6), \n",
    "               rot=0);"
   ]
  },
  {
   "cell_type": "markdown",
   "metadata": {},
   "source": [
    "Имеется дизбаланс классов. Отношение нетоксичных к токсичным 9:1."
   ]
  },
  {
   "cell_type": "code",
   "execution_count": 10,
   "metadata": {},
   "outputs": [],
   "source": [
    "def get_cleared_text(text):\n",
    "    text = text.lower() #привожу текст к нижнему регистру\n",
    "    text = re.sub(r'[^a-z0-9]', ' ', text) #заменяю все символы не относящиеся к английским буквам и цифрам на пробел\n",
    "    text = ' '.join(text.split()) #удаляю лишние пробелы\n",
    "    return text"
   ]
  },
  {
   "cell_type": "markdown",
   "metadata": {},
   "source": [
    "get_cleared_text - функция возвращает текст в нижнем регистре очищенный от лишних символов."
   ]
  },
  {
   "cell_type": "code",
   "execution_count": 12,
   "metadata": {},
   "outputs": [
    {
     "data": {
      "text/html": [
       "<div>\n",
       "<style scoped>\n",
       "    .dataframe tbody tr th:only-of-type {\n",
       "        vertical-align: middle;\n",
       "    }\n",
       "\n",
       "    .dataframe tbody tr th {\n",
       "        vertical-align: top;\n",
       "    }\n",
       "\n",
       "    .dataframe thead th {\n",
       "        text-align: right;\n",
       "    }\n",
       "</style>\n",
       "<table border=\"1\" class=\"dataframe\">\n",
       "  <thead>\n",
       "    <tr style=\"text-align: right;\">\n",
       "      <th></th>\n",
       "      <th>text</th>\n",
       "      <th>toxic</th>\n",
       "    </tr>\n",
       "  </thead>\n",
       "  <tbody>\n",
       "    <tr>\n",
       "      <th>0</th>\n",
       "      <td>explanation why the edits made under my userna...</td>\n",
       "      <td>0</td>\n",
       "    </tr>\n",
       "    <tr>\n",
       "      <th>1</th>\n",
       "      <td>d aww he matches this background colour i m se...</td>\n",
       "      <td>0</td>\n",
       "    </tr>\n",
       "    <tr>\n",
       "      <th>2</th>\n",
       "      <td>hey man i m really not trying to edit war it s...</td>\n",
       "      <td>0</td>\n",
       "    </tr>\n",
       "    <tr>\n",
       "      <th>3</th>\n",
       "      <td>more i can t make any real suggestions on impr...</td>\n",
       "      <td>0</td>\n",
       "    </tr>\n",
       "    <tr>\n",
       "      <th>4</th>\n",
       "      <td>you sir are my hero any chance you remember wh...</td>\n",
       "      <td>0</td>\n",
       "    </tr>\n",
       "    <tr>\n",
       "      <th>...</th>\n",
       "      <td>...</td>\n",
       "      <td>...</td>\n",
       "    </tr>\n",
       "    <tr>\n",
       "      <th>159446</th>\n",
       "      <td>and for the second time of asking when your vi...</td>\n",
       "      <td>0</td>\n",
       "    </tr>\n",
       "    <tr>\n",
       "      <th>159447</th>\n",
       "      <td>you should be ashamed of yourself that is a ho...</td>\n",
       "      <td>0</td>\n",
       "    </tr>\n",
       "    <tr>\n",
       "      <th>159448</th>\n",
       "      <td>spitzer umm theres no actual article for prost...</td>\n",
       "      <td>0</td>\n",
       "    </tr>\n",
       "    <tr>\n",
       "      <th>159449</th>\n",
       "      <td>and it looks like it was actually you who put ...</td>\n",
       "      <td>0</td>\n",
       "    </tr>\n",
       "    <tr>\n",
       "      <th>159450</th>\n",
       "      <td>and i really don t think you understand i came...</td>\n",
       "      <td>0</td>\n",
       "    </tr>\n",
       "  </tbody>\n",
       "</table>\n",
       "<p>159292 rows × 2 columns</p>\n",
       "</div>"
      ],
      "text/plain": [
       "                                                     text  toxic\n",
       "0       explanation why the edits made under my userna...      0\n",
       "1       d aww he matches this background colour i m se...      0\n",
       "2       hey man i m really not trying to edit war it s...      0\n",
       "3       more i can t make any real suggestions on impr...      0\n",
       "4       you sir are my hero any chance you remember wh...      0\n",
       "...                                                   ...    ...\n",
       "159446  and for the second time of asking when your vi...      0\n",
       "159447  you should be ashamed of yourself that is a ho...      0\n",
       "159448  spitzer umm theres no actual article for prost...      0\n",
       "159449  and it looks like it was actually you who put ...      0\n",
       "159450  and i really don t think you understand i came...      0\n",
       "\n",
       "[159292 rows x 2 columns]"
      ]
     },
     "execution_count": 12,
     "metadata": {},
     "output_type": "execute_result"
    }
   ],
   "source": [
    "df['text'] = df['text'].apply(get_cleared_text)\n",
    "df"
   ]
  },
  {
   "cell_type": "markdown",
   "metadata": {},
   "source": [
    "Комментарии очищены от лишних символов."
   ]
  },
  {
   "cell_type": "code",
   "execution_count": 13,
   "metadata": {},
   "outputs": [
    {
     "name": "stdout",
     "output_type": "stream",
     "text": [
      "cocksucker before you piss around on my work\n",
      "\n",
      "hey what is it talk what is it an exclusive group of some wp talibans who are good at destroying self appointed purist who gang up any one who asks them questions abt their anti social and destructive non contribution at wp ask sityush to clean up his behavior than issue me nonsensical warnings\n",
      "\n",
      "bye don t look come or think of comming back tosser\n",
      "\n",
      "you are gay or antisemmitian archangel white tiger meow greetingshhh uh there are two ways why you do erased my comment about ww2 that holocaust was brutally slaying of jews and not gays gypsys slavs anyone 1 if you are anti semitian than shave your head bald and go to the skinhead meetings 2 if you doubt words of the bible that homosexuality is a deadly sin make a pentagram tatoo on your forehead go to the satanistic masses with your gay pals 3 first and last warning you fucking gay i won t appreciate if any more nazi shwain would write in my page i don t wish to talk to you anymore beware of the dark side\n",
      "\n",
      "fuck your filthy mother in the ass dry\n",
      "\n",
      "i m sorry i m sorry i screwed around with someones talk page it was very bad to do i know how having the templates on their talk page helps you assert your dominance over them i know i should bow down to the almighty administrators but then again i m going to go play outside with your mom 76 122 79 82\n",
      "\n",
      "get fucked up get fuckeeed up got a drink that you cant put down get fuck up get fucked up i m fucked up right now\n",
      "\n",
      "stupid peace of shit stop deleting my stuff asshole go die and fall in a hole go to hell\n",
      "\n",
      "tony sidaway is obviously a fistfuckee he loves an arm up his ass\n",
      "\n",
      "my band page s deletion you thought i was gone deleting the comment i posted on your talk page does not delete my feelings for your hasty decision to delete my page you sir are still a cock sucking douche fuck sit back for a second and think about what your life has become done that didn t take long did it nope because as i am most certainly aware your life is a shitstorm of sitting in front of the computer masturbating to fictional creatures your attempts to get rid of me are mediocre at best you are constantly sucking the dick of failure you don t want a personal attack huh well too bad fuckcock mcdickerson you ve got one from me you can go ahead and delete my profile from wikipedia i ll just make another one and come right back to syrthiss s talk page and insult the dick off of you how could you shatter the dreams of an innocent eighteen year old college freshman trying to make a name for his band does that make you happy fucking with people because you re an overweight single old man in a dead end job did you spot that perhaps someone else was going to follow his dreams and you were trying to hold him back so somebody else could suffer like you yes you did i don t make empty threats so i won t be saying anything along the lines of i ll hurt you or i ll eat the children from within your sister s womb but i will say that you are a asshole son of a bitch mother fucking cock sucker so go eat some more food and drown your sorrows you premature ejaculating bald headed fuck you should do something nice for yourself maybe go grab a couple of horny goat weeds from your local convenience store and jack off for a little longer than three minutes tonight sincerely an asshole that s better than you in every way\n",
      "\n"
     ]
    }
   ],
   "source": [
    "for text in df[df['toxic'] == 1]['text'].head(10):\n",
    "    print(text, end='\\n\\n')"
   ]
  },
  {
   "cell_type": "code",
   "execution_count": 14,
   "metadata": {},
   "outputs": [
    {
     "name": "stdout",
     "output_type": "stream",
     "text": [
      "explanation why the edits made under my username hardcore metallica fan were reverted they weren t vandalisms just closure on some gas after i voted at new york dolls fac and please don t remove the template from the talk page since i m retired now 89 205 38 27\n",
      "\n",
      "d aww he matches this background colour i m seemingly stuck with thanks talk 21 51 january 11 2016 utc\n",
      "\n",
      "hey man i m really not trying to edit war it s just that this guy is constantly removing relevant information and talking to me through edits instead of my talk page he seems to care more about the formatting than the actual info\n",
      "\n",
      "more i can t make any real suggestions on improvement i wondered if the section statistics should be later on or a subsection of types of accidents i think the references may need tidying so that they are all in the exact same format ie date format etc i can do that later on if no one else does first if you have any preferences for formatting style on references or want to do it yourself please let me know there appears to be a backlog on articles for review so i guess there may be a delay until a reviewer turns up it s listed in the relevant form eg wikipedia good article nominations transport\n",
      "\n",
      "you sir are my hero any chance you remember what page that s on\n",
      "\n",
      "congratulations from me as well use the tools well talk\n",
      "\n",
      "your vandalism to the matt shirvington article has been reverted please don t do it again or you will be banned\n",
      "\n",
      "sorry if the word nonsense was offensive to you anyway i m not intending to write anything in the article wow they would jump on me for vandalism i m merely requesting that it be more encyclopedic so one can use it for school as a reference i have been to the selective breeding page but it s almost a stub it points to animal breeding which is a short messy article that gives you no info there must be someone around with expertise in eugenics 93 161 107 169\n",
      "\n",
      "alignment on this subject and which are contrary to those of dulithgow\n",
      "\n",
      "fair use rationale for image wonju jpg thanks for uploading image wonju jpg i notice the image page specifies that the image is being used under fair use but there is no explanation or rationale as to why its use in wikipedia articles constitutes fair use in addition to the boilerplate fair use template you must also write out on the image description page a specific explanation or rationale for why using this image in each article is consistent with fair use please go to the image description page and edit it to include a fair use rationale if you have uploaded other fair use media consider checking that you have specified the fair use rationale on those pages too you can find a list of image pages you have edited by clicking on the my contributions link it is located at the very top of any wikipedia page when you are logged in and then selecting image from the dropdown box note that any fair use images uploaded after 4 may 2006 and lacking such an explanation will be deleted one week after they have been uploaded as described on criteria for speedy deletion if you have any questions please ask them at the media copyright questions page thank you talk contribs unspecified source for image wonju jpg thanks for uploading image wonju jpg i noticed that the file s description page currently doesn t specify who created the content so the copyright status is unclear if you did not create this file yourself then you will need to specify the owner of the copyright if you obtained it from a website then a link to the website from which it was taken together with a restatement of that website s terms of use of its content is usually sufficient information however if the copyright holder is different from the website s publisher then their copyright should also be acknowledged as well as adding the source please add a proper copyright licensing tag if the file doesn t have one already if you created took the picture audio or video then the tag can be used to release it under the gfdl if you believe the media meets the criteria at wikipedia fair use use a tag such as or one of the other tags listed at wikipedia image copyright tags fair use see wikipedia image copyright tags for the full list of copyright tags that you can use if you have uploaded other files consider checking that you have specified their source and tagged them too you can find a list of files you have uploaded by following this link unsourced and untagged images may be deleted one week after they have been tagged as described on criteria for speedy deletion if the image is copyrighted under a non free license per wikipedia fair use then the image will be deleted 48 hours after if you have any questions please ask them at the media copyright questions page thank you talk contribs\n",
      "\n"
     ]
    }
   ],
   "source": [
    "for text in df[df['toxic'] == 0]['text'].head(10):\n",
    "    print(text, end='\\n\\n')"
   ]
  },
  {
   "cell_type": "markdown",
   "metadata": {},
   "source": [
    "Посмотрела на качество разметки по 10 комментариям, размеченным как токсичные и по 10 комментариям, размеченным как нетоксичные. Для этого набора разметка верна. "
   ]
  },
  {
   "cell_type": "code",
   "execution_count": 15,
   "metadata": {},
   "outputs": [],
   "source": [
    "def get_wordnet_pos(word):\n",
    "    tag = nltk.pos_tag([word])[0][1][0].upper()\n",
    "    tag_dict = {\"J\": wordnet.ADJ,\n",
    "                \"N\": wordnet.NOUN,\n",
    "                \"V\": wordnet.VERB,\n",
    "                \"R\": wordnet.ADV} \n",
    "    return tag_dict.get(tag, wordnet.NOUN)"
   ]
  },
  {
   "cell_type": "markdown",
   "metadata": {},
   "source": [
    "get_wordnet_pos - функция возвращает словарь, где возвращается значение часть речи (pos_tag)"
   ]
  },
  {
   "cell_type": "code",
   "execution_count": 17,
   "metadata": {},
   "outputs": [],
   "source": [
    "def get_lemmatized_text(text):\n",
    "    result = []\n",
    "    for word in text.split():\n",
    "        if word not in stopwords.words('english'):\n",
    "            result.append(WordNetLemmatizer().lemmatize(word, get_wordnet_pos(word))) \n",
    "    return ' '.join(result)"
   ]
  },
  {
   "cell_type": "code",
   "execution_count": 22,
   "metadata": {},
   "outputs": [
    {
     "data": {
      "application/vnd.jupyter.widget-view+json": {
       "model_id": "1e42893dcf3b4a708b4420f70fff6b54",
       "version_major": 2,
       "version_minor": 0
      },
      "text/plain": [
       "  0%|          | 0/159292 [00:00<?, ?it/s]"
      ]
     },
     "metadata": {},
     "output_type": "display_data"
    },
    {
     "data": {
      "text/html": [
       "<div>\n",
       "<style scoped>\n",
       "    .dataframe tbody tr th:only-of-type {\n",
       "        vertical-align: middle;\n",
       "    }\n",
       "\n",
       "    .dataframe tbody tr th {\n",
       "        vertical-align: top;\n",
       "    }\n",
       "\n",
       "    .dataframe thead th {\n",
       "        text-align: right;\n",
       "    }\n",
       "</style>\n",
       "<table border=\"1\" class=\"dataframe\">\n",
       "  <thead>\n",
       "    <tr style=\"text-align: right;\">\n",
       "      <th></th>\n",
       "      <th>text</th>\n",
       "      <th>toxic</th>\n",
       "    </tr>\n",
       "  </thead>\n",
       "  <tbody>\n",
       "    <tr>\n",
       "      <th>0</th>\n",
       "      <td>explanation edits make username hardcore metal...</td>\n",
       "      <td>0</td>\n",
       "    </tr>\n",
       "    <tr>\n",
       "      <th>1</th>\n",
       "      <td>aww match background colour seemingly stuck th...</td>\n",
       "      <td>0</td>\n",
       "    </tr>\n",
       "    <tr>\n",
       "      <th>2</th>\n",
       "      <td>hey man really try edit war guy constantly rem...</td>\n",
       "      <td>0</td>\n",
       "    </tr>\n",
       "    <tr>\n",
       "      <th>3</th>\n",
       "      <td>make real suggestion improvement wonder sectio...</td>\n",
       "      <td>0</td>\n",
       "    </tr>\n",
       "    <tr>\n",
       "      <th>4</th>\n",
       "      <td>sir hero chance remember page</td>\n",
       "      <td>0</td>\n",
       "    </tr>\n",
       "    <tr>\n",
       "      <th>...</th>\n",
       "      <td>...</td>\n",
       "      <td>...</td>\n",
       "    </tr>\n",
       "    <tr>\n",
       "      <th>159446</th>\n",
       "      <td>second time ask view completely contradicts co...</td>\n",
       "      <td>0</td>\n",
       "    </tr>\n",
       "    <tr>\n",
       "      <th>159447</th>\n",
       "      <td>ashamed horrible thing put talk page 128 61 19 93</td>\n",
       "      <td>0</td>\n",
       "    </tr>\n",
       "    <tr>\n",
       "      <th>159448</th>\n",
       "      <td>spitzer umm there actual article prostitution ...</td>\n",
       "      <td>0</td>\n",
       "    </tr>\n",
       "    <tr>\n",
       "      <th>159449</th>\n",
       "      <td>look like actually put speedy first version de...</td>\n",
       "      <td>0</td>\n",
       "    </tr>\n",
       "    <tr>\n",
       "      <th>159450</th>\n",
       "      <td>really think understand come idea bad right aw...</td>\n",
       "      <td>0</td>\n",
       "    </tr>\n",
       "  </tbody>\n",
       "</table>\n",
       "<p>159292 rows × 2 columns</p>\n",
       "</div>"
      ],
      "text/plain": [
       "                                                     text  toxic\n",
       "0       explanation edits make username hardcore metal...      0\n",
       "1       aww match background colour seemingly stuck th...      0\n",
       "2       hey man really try edit war guy constantly rem...      0\n",
       "3       make real suggestion improvement wonder sectio...      0\n",
       "4                           sir hero chance remember page      0\n",
       "...                                                   ...    ...\n",
       "159446  second time ask view completely contradicts co...      0\n",
       "159447  ashamed horrible thing put talk page 128 61 19 93      0\n",
       "159448  spitzer umm there actual article prostitution ...      0\n",
       "159449  look like actually put speedy first version de...      0\n",
       "159450  really think understand come idea bad right aw...      0\n",
       "\n",
       "[159292 rows x 2 columns]"
      ]
     },
     "execution_count": 22,
     "metadata": {},
     "output_type": "execute_result"
    }
   ],
   "source": [
    "tqdm.pandas()\n",
    "df['text'] = df['text'].progress_apply(get_lemmatized_text)\n",
    "df"
   ]
  },
  {
   "cell_type": "markdown",
   "metadata": {},
   "source": [
    "get_lemmatized_text - функция возвращает текст с лемматизировнным набором слов и с удаленными стоп-словами."
   ]
  },
  {
   "cell_type": "code",
   "execution_count": 23,
   "metadata": {},
   "outputs": [
    {
     "data": {
      "text/plain": [
       "25"
      ]
     },
     "execution_count": 23,
     "metadata": {},
     "output_type": "execute_result"
    }
   ],
   "source": [
    "sum(df['text'] == '')"
   ]
  },
  {
   "cell_type": "code",
   "execution_count": 24,
   "metadata": {},
   "outputs": [
    {
     "data": {
      "text/html": [
       "<div>\n",
       "<style scoped>\n",
       "    .dataframe tbody tr th:only-of-type {\n",
       "        vertical-align: middle;\n",
       "    }\n",
       "\n",
       "    .dataframe tbody tr th {\n",
       "        vertical-align: top;\n",
       "    }\n",
       "\n",
       "    .dataframe thead th {\n",
       "        text-align: right;\n",
       "    }\n",
       "</style>\n",
       "<table border=\"1\" class=\"dataframe\">\n",
       "  <thead>\n",
       "    <tr style=\"text-align: right;\">\n",
       "      <th></th>\n",
       "      <th>text</th>\n",
       "      <th>toxic</th>\n",
       "    </tr>\n",
       "  </thead>\n",
       "  <tbody>\n",
       "    <tr>\n",
       "      <th>2400</th>\n",
       "      <td></td>\n",
       "      <td>0</td>\n",
       "    </tr>\n",
       "    <tr>\n",
       "      <th>9386</th>\n",
       "      <td></td>\n",
       "      <td>0</td>\n",
       "    </tr>\n",
       "    <tr>\n",
       "      <th>12404</th>\n",
       "      <td></td>\n",
       "      <td>0</td>\n",
       "    </tr>\n",
       "    <tr>\n",
       "      <th>23071</th>\n",
       "      <td></td>\n",
       "      <td>0</td>\n",
       "    </tr>\n",
       "    <tr>\n",
       "      <th>26378</th>\n",
       "      <td></td>\n",
       "      <td>0</td>\n",
       "    </tr>\n",
       "    <tr>\n",
       "      <th>31044</th>\n",
       "      <td></td>\n",
       "      <td>0</td>\n",
       "    </tr>\n",
       "    <tr>\n",
       "      <th>31990</th>\n",
       "      <td></td>\n",
       "      <td>0</td>\n",
       "    </tr>\n",
       "    <tr>\n",
       "      <th>38277</th>\n",
       "      <td></td>\n",
       "      <td>0</td>\n",
       "    </tr>\n",
       "    <tr>\n",
       "      <th>58556</th>\n",
       "      <td></td>\n",
       "      <td>0</td>\n",
       "    </tr>\n",
       "    <tr>\n",
       "      <th>64257</th>\n",
       "      <td></td>\n",
       "      <td>0</td>\n",
       "    </tr>\n",
       "    <tr>\n",
       "      <th>71664</th>\n",
       "      <td></td>\n",
       "      <td>0</td>\n",
       "    </tr>\n",
       "    <tr>\n",
       "      <th>82171</th>\n",
       "      <td></td>\n",
       "      <td>0</td>\n",
       "    </tr>\n",
       "    <tr>\n",
       "      <th>93794</th>\n",
       "      <td></td>\n",
       "      <td>0</td>\n",
       "    </tr>\n",
       "    <tr>\n",
       "      <th>109487</th>\n",
       "      <td></td>\n",
       "      <td>0</td>\n",
       "    </tr>\n",
       "    <tr>\n",
       "      <th>110420</th>\n",
       "      <td></td>\n",
       "      <td>0</td>\n",
       "    </tr>\n",
       "    <tr>\n",
       "      <th>114073</th>\n",
       "      <td></td>\n",
       "      <td>0</td>\n",
       "    </tr>\n",
       "    <tr>\n",
       "      <th>119123</th>\n",
       "      <td></td>\n",
       "      <td>1</td>\n",
       "    </tr>\n",
       "    <tr>\n",
       "      <th>124364</th>\n",
       "      <td></td>\n",
       "      <td>0</td>\n",
       "    </tr>\n",
       "    <tr>\n",
       "      <th>124529</th>\n",
       "      <td></td>\n",
       "      <td>0</td>\n",
       "    </tr>\n",
       "    <tr>\n",
       "      <th>126863</th>\n",
       "      <td></td>\n",
       "      <td>0</td>\n",
       "    </tr>\n",
       "    <tr>\n",
       "      <th>128982</th>\n",
       "      <td></td>\n",
       "      <td>0</td>\n",
       "    </tr>\n",
       "    <tr>\n",
       "      <th>137547</th>\n",
       "      <td></td>\n",
       "      <td>0</td>\n",
       "    </tr>\n",
       "    <tr>\n",
       "      <th>140376</th>\n",
       "      <td></td>\n",
       "      <td>0</td>\n",
       "    </tr>\n",
       "    <tr>\n",
       "      <th>142988</th>\n",
       "      <td></td>\n",
       "      <td>0</td>\n",
       "    </tr>\n",
       "    <tr>\n",
       "      <th>147805</th>\n",
       "      <td></td>\n",
       "      <td>0</td>\n",
       "    </tr>\n",
       "  </tbody>\n",
       "</table>\n",
       "</div>"
      ],
      "text/plain": [
       "       text  toxic\n",
       "2400             0\n",
       "9386             0\n",
       "12404            0\n",
       "23071            0\n",
       "26378            0\n",
       "31044            0\n",
       "31990            0\n",
       "38277            0\n",
       "58556            0\n",
       "64257            0\n",
       "71664            0\n",
       "82171            0\n",
       "93794            0\n",
       "109487           0\n",
       "110420           0\n",
       "114073           0\n",
       "119123           1\n",
       "124364           0\n",
       "124529           0\n",
       "126863           0\n",
       "128982           0\n",
       "137547           0\n",
       "140376           0\n",
       "142988           0\n",
       "147805           0"
      ]
     },
     "execution_count": 24,
     "metadata": {},
     "output_type": "execute_result"
    }
   ],
   "source": [
    "df[df['text'] == '']"
   ]
  },
  {
   "cell_type": "markdown",
   "metadata": {},
   "source": [
    "25 комментариев преобразовались в пустые строки. Видимо, они содержали только стоп-слова и символы не относящиеся к буквам английского алфавита и цифрам."
   ]
  },
  {
   "cell_type": "markdown",
   "metadata": {},
   "source": [
    "Данные лемматизированны, стоп-слова удалены."
   ]
  },
  {
   "cell_type": "markdown",
   "metadata": {},
   "source": [
    "## Обучение"
   ]
  },
  {
   "cell_type": "markdown",
   "metadata": {},
   "source": [
    "### Разделение на train / test выборки"
   ]
  },
  {
   "cell_type": "code",
   "execution_count": 25,
   "metadata": {},
   "outputs": [],
   "source": [
    "X_train, X_test, y_train, y_test = train_test_split(df['text'], \n",
    "                                                    df['toxic'], \n",
    "                                                    test_size=0.1, \n",
    "                                                    stratify=df['toxic'], \n",
    "                                                    random_state=RANDOM_STATE)"
   ]
  },
  {
   "cell_type": "markdown",
   "metadata": {},
   "source": [
    "Разделяю данные на обучающую и тестовую выборки со стратификацией, чтобы сохранить соотношение классов в обеих выборках."
   ]
  },
  {
   "cell_type": "code",
   "execution_count": 26,
   "metadata": {
    "scrolled": false
   },
   "outputs": [
    {
     "data": {
      "text/plain": [
       "22605     please stop continue vandalize page saint vict...\n",
       "150502    chanology nonviolence comment say one edits ch...\n",
       "17008     change specie abbreviation template remove pip...\n",
       "51716     red head boy blonde girl tease tease brunette ...\n",
       "51973         britain need help stop islam britain vote bnp\n",
       "                                ...                        \n",
       "104782    identify give reason wikipedia source break ne...\n",
       "94439     pretty disingenuous erik clever enough know li...\n",
       "107783    attend wellesley washington program urge profe...\n",
       "94548     abraham de vries minister hi jane thanks lot f...\n",
       "85871     question seem ip 98 179 149 193 cause trouble ...\n",
       "Name: text, Length: 143362, dtype: object"
      ]
     },
     "execution_count": 26,
     "metadata": {},
     "output_type": "execute_result"
    }
   ],
   "source": [
    "X_train"
   ]
  },
  {
   "cell_type": "code",
   "execution_count": 27,
   "metadata": {
    "scrolled": true
   },
   "outputs": [
    {
     "data": {
      "text/plain": [
       "151009     ok seem pretty clear editor responsible amalthea\n",
       "30615     proposal standard infobox history country temp...\n",
       "35343     hi pompous as know think kind poker authority ...\n",
       "156814    attack guy censor opinion agree respond proof ...\n",
       "97214     include peter emerich peter hermit emerich res...\n",
       "                                ...                        \n",
       "108178    sorry want report user http en wikipedia org w...\n",
       "135579    oh good one elonka glad abuse administrative p...\n",
       "59188                             9 february 2008 utc 00 17\n",
       "36250     low attention peer review old peer review imag...\n",
       "30016     consider communication extremely important not...\n",
       "Name: text, Length: 15930, dtype: object"
      ]
     },
     "execution_count": 27,
     "metadata": {},
     "output_type": "execute_result"
    }
   ],
   "source": [
    "X_test"
   ]
  },
  {
   "cell_type": "code",
   "execution_count": 28,
   "metadata": {},
   "outputs": [
    {
     "data": {
      "text/html": [
       "<div>\n",
       "<style scoped>\n",
       "    .dataframe tbody tr th:only-of-type {\n",
       "        vertical-align: middle;\n",
       "    }\n",
       "\n",
       "    .dataframe tbody tr th {\n",
       "        vertical-align: top;\n",
       "    }\n",
       "\n",
       "    .dataframe thead th {\n",
       "        text-align: right;\n",
       "    }\n",
       "</style>\n",
       "<table border=\"1\" class=\"dataframe\">\n",
       "  <thead>\n",
       "    <tr style=\"text-align: right;\">\n",
       "      <th></th>\n",
       "      <th>обучение</th>\n",
       "      <th>тест</th>\n",
       "    </tr>\n",
       "  </thead>\n",
       "  <tbody>\n",
       "    <tr>\n",
       "      <th>нетоксичные</th>\n",
       "      <td>128795</td>\n",
       "      <td>14311</td>\n",
       "    </tr>\n",
       "    <tr>\n",
       "      <th>токсичные</th>\n",
       "      <td>14567</td>\n",
       "      <td>1619</td>\n",
       "    </tr>\n",
       "  </tbody>\n",
       "</table>\n",
       "</div>"
      ],
      "text/plain": [
       "             обучение   тест\n",
       "нетоксичные    128795  14311\n",
       "токсичные       14567   1619"
      ]
     },
     "execution_count": 28,
     "metadata": {},
     "output_type": "execute_result"
    }
   ],
   "source": [
    "den_toxic = pd.DataFrame({'обучение': y_train.value_counts(), 'тест': y_test.value_counts()})\n",
    "den_toxic.index = ['нетоксичные', 'токсичные']\n",
    "den_toxic"
   ]
  },
  {
   "cell_type": "code",
   "execution_count": 29,
   "metadata": {},
   "outputs": [
    {
     "data": {
      "image/png": "[encoded data removed]",
      "text/plain": [
       "<Figure size 900x600 with 2 Axes>"
      ]
     },
     "metadata": {},
     "output_type": "display_data"
    }
   ],
   "source": [
    "den_toxic.plot(kind='pie', \n",
    "               subplots=True, \n",
    "               title='Процентное распределение токсичных и нетоксичных комментариев', \n",
    "               figsize=(9, 6), \n",
    "               labeldistance=None, \n",
    "               autopct='%.2f');"
   ]
  },
  {
   "cell_type": "markdown",
   "metadata": {},
   "source": [
    "Соотношение токсичных и нетоксичных комментариев и в обучающей и в тестовой выборках около 1 к 9."
   ]
  },
  {
   "cell_type": "markdown",
   "metadata": {},
   "source": [
    "### Мешок слов"
   ]
  },
  {
   "cell_type": "markdown",
   "metadata": {},
   "source": [
    "#### LogisticRegression"
   ]
  },
  {
   "cell_type": "code",
   "execution_count": 30,
   "metadata": {},
   "outputs": [],
   "source": [
    "pipe_bag_lr = Pipeline([('count_vect', CountVectorizer(ngram_range=(1, 2))), ('log_reg', LogisticRegression())])"
   ]
  },
  {
   "cell_type": "markdown",
   "metadata": {},
   "source": [
    "Создала мешок слов, используя сами слова из комментариев обучающей выборки и биграммы, составленные по комментариям обучающей выборки. В качестве модели выбрала логистическую регрессию. "
   ]
  },
  {
   "cell_type": "code",
   "execution_count": 31,
   "metadata": {
    "scrolled": true
   },
   "outputs": [
    {
     "name": "stdout",
     "output_type": "stream",
     "text": [
      "CPU times: total: 40.4 s\n",
      "Wall time: 7min 50s\n"
     ]
    },
    {
     "data": {
      "text/plain": [
       "GridSearchCV(cv=5,\n",
       "             estimator=Pipeline(steps=[('count_vect',\n",
       "                                        CountVectorizer(ngram_range=(1, 2))),\n",
       "                                       ('log_reg', LogisticRegression())]),\n",
       "             n_jobs=-1,\n",
       "             param_grid={'log_reg__C': [0.01, 0.1, 1, 10, 100],\n",
       "                         'log_reg__class_weight': ['balanced']},\n",
       "             scoring='f1')"
      ]
     },
     "execution_count": 31,
     "metadata": {},
     "output_type": "execute_result"
    }
   ],
   "source": [
    "%%time\n",
    "param_grid = {'log_reg__C': [0.01, 0.1, 1, 10, 100],\n",
    "              'log_reg__class_weight': ['balanced']}\n",
    "gs_bag_lr = GridSearchCV(estimator=pipe_bag_lr, \n",
    "                         param_grid=param_grid, \n",
    "                         scoring='f1',\n",
    "                         cv=5,\n",
    "                         n_jobs=-1)\n",
    "gs_bag_lr.fit(X_train, y_train)"
   ]
  },
  {
   "cell_type": "code",
   "execution_count": 32,
   "metadata": {},
   "outputs": [
    {
     "data": {
      "text/html": [
       "<div>\n",
       "<style scoped>\n",
       "    .dataframe tbody tr th:only-of-type {\n",
       "        vertical-align: middle;\n",
       "    }\n",
       "\n",
       "    .dataframe tbody tr th {\n",
       "        vertical-align: top;\n",
       "    }\n",
       "\n",
       "    .dataframe thead th {\n",
       "        text-align: right;\n",
       "    }\n",
       "</style>\n",
       "<table border=\"1\" class=\"dataframe\">\n",
       "  <thead>\n",
       "    <tr style=\"text-align: right;\">\n",
       "      <th></th>\n",
       "      <th>rank_test_score</th>\n",
       "      <th>C</th>\n",
       "      <th>mean_test_score</th>\n",
       "    </tr>\n",
       "  </thead>\n",
       "  <tbody>\n",
       "    <tr>\n",
       "      <th>2</th>\n",
       "      <td>1</td>\n",
       "      <td>1.00</td>\n",
       "      <td>0.789429</td>\n",
       "    </tr>\n",
       "    <tr>\n",
       "      <th>3</th>\n",
       "      <td>2</td>\n",
       "      <td>10.00</td>\n",
       "      <td>0.787467</td>\n",
       "    </tr>\n",
       "    <tr>\n",
       "      <th>4</th>\n",
       "      <td>3</td>\n",
       "      <td>100.00</td>\n",
       "      <td>0.780110</td>\n",
       "    </tr>\n",
       "    <tr>\n",
       "      <th>1</th>\n",
       "      <td>4</td>\n",
       "      <td>0.10</td>\n",
       "      <td>0.775512</td>\n",
       "    </tr>\n",
       "    <tr>\n",
       "      <th>0</th>\n",
       "      <td>5</td>\n",
       "      <td>0.01</td>\n",
       "      <td>0.722317</td>\n",
       "    </tr>\n",
       "  </tbody>\n",
       "</table>\n",
       "</div>"
      ],
      "text/plain": [
       "   rank_test_score       C  mean_test_score\n",
       "2                1    1.00         0.789429\n",
       "3                2   10.00         0.787467\n",
       "4                3  100.00         0.780110\n",
       "1                4    0.10         0.775512\n",
       "0                5    0.01         0.722317"
      ]
     },
     "execution_count": 32,
     "metadata": {},
     "output_type": "execute_result"
    }
   ],
   "source": [
    "bag_lr_results = pd.DataFrame(gs_bag_lr.cv_results_)[['rank_test_score', 'params', 'mean_test_score']]\n",
    "bag_lr_results['C'] = bag_lr_results['params'].apply(lambda x: x['log_reg__C'])\n",
    "bag_lr_results[['rank_test_score', 'C', 'mean_test_score']].sort_values(by='rank_test_score')"
   ]
  },
  {
   "cell_type": "markdown",
   "metadata": {},
   "source": [
    "Обучила модель по решетке на кроссвалидации, подбирала только гиперпараметр С, чтобы сократить время обучения. Значением гиперпараметра class_weight выбрала balanced, потому что в данных имеется дизбаланс классов, а задачей стоит, как и максимально распознать все токсичные комментарии, так и минимальное количество нетоксичных определить как токсичные. Лучшую модель в решетке отбираю по метрике f1 согласно условию задачи. Лучшие результаты на кроссвалидации показала модель с C=1."
   ]
  },
  {
   "cell_type": "markdown",
   "metadata": {},
   "source": [
    "#### RandomForestClassifier"
   ]
  },
  {
   "cell_type": "code",
   "execution_count": 33,
   "metadata": {},
   "outputs": [],
   "source": [
    "pipe_bag_rf = Pipeline([('count_vect', CountVectorizer(ngram_range=(1, 2))), ('rand_for', RandomForestClassifier())])"
   ]
  },
  {
   "cell_type": "code",
   "execution_count": 34,
   "metadata": {},
   "outputs": [
    {
     "name": "stdout",
     "output_type": "stream",
     "text": [
      "CPU times: total: 27min 21s\n",
      "Wall time: 21min 43s\n"
     ]
    },
    {
     "data": {
      "text/plain": [
       "GridSearchCV(cv=5,\n",
       "             estimator=Pipeline(steps=[('count_vect',\n",
       "                                        CountVectorizer(ngram_range=(1, 2))),\n",
       "                                       ('rand_for', RandomForestClassifier())]),\n",
       "             n_jobs=-1,\n",
       "             param_grid={'rand_for__class_weight': ['balanced'],\n",
       "                         'rand_for__max_depth': [10, 50, 100, 200, 500],\n",
       "                         'rand_for__n_estimators': [20],\n",
       "                         'rand_for__n_jobs': [-1],\n",
       "                         'rand_for__random_state': [42]},\n",
       "             scoring='f1')"
      ]
     },
     "execution_count": 34,
     "metadata": {},
     "output_type": "execute_result"
    }
   ],
   "source": [
    "%%time\n",
    "param_grid = {'rand_for__max_depth': [10, 50, 100, 200, 500],\n",
    "              'rand_for__n_estimators': [20],\n",
    "              'rand_for__random_state': [RANDOM_STATE], \n",
    "              'rand_for__n_jobs': [-1], \n",
    "              'rand_for__class_weight': ['balanced']}\n",
    "gs_bag_rf = GridSearchCV(estimator=pipe_bag_rf, \n",
    "                         param_grid=param_grid, \n",
    "                         scoring='f1',\n",
    "                         cv=5,\n",
    "                         n_jobs=-1)\n",
    "gs_bag_rf.fit(X_train, y_train)"
   ]
  },
  {
   "cell_type": "code",
   "execution_count": 35,
   "metadata": {},
   "outputs": [
    {
     "data": {
      "text/html": [
       "<div>\n",
       "<style scoped>\n",
       "    .dataframe tbody tr th:only-of-type {\n",
       "        vertical-align: middle;\n",
       "    }\n",
       "\n",
       "    .dataframe tbody tr th {\n",
       "        vertical-align: top;\n",
       "    }\n",
       "\n",
       "    .dataframe thead th {\n",
       "        text-align: right;\n",
       "    }\n",
       "</style>\n",
       "<table border=\"1\" class=\"dataframe\">\n",
       "  <thead>\n",
       "    <tr style=\"text-align: right;\">\n",
       "      <th></th>\n",
       "      <th>rank_test_score</th>\n",
       "      <th>max_depth</th>\n",
       "      <th>mean_test_score</th>\n",
       "    </tr>\n",
       "  </thead>\n",
       "  <tbody>\n",
       "    <tr>\n",
       "      <th>4</th>\n",
       "      <td>1</td>\n",
       "      <td>500</td>\n",
       "      <td>0.549375</td>\n",
       "    </tr>\n",
       "    <tr>\n",
       "      <th>3</th>\n",
       "      <td>2</td>\n",
       "      <td>200</td>\n",
       "      <td>0.487300</td>\n",
       "    </tr>\n",
       "    <tr>\n",
       "      <th>2</th>\n",
       "      <td>3</td>\n",
       "      <td>100</td>\n",
       "      <td>0.430733</td>\n",
       "    </tr>\n",
       "    <tr>\n",
       "      <th>1</th>\n",
       "      <td>4</td>\n",
       "      <td>50</td>\n",
       "      <td>0.367268</td>\n",
       "    </tr>\n",
       "    <tr>\n",
       "      <th>0</th>\n",
       "      <td>5</td>\n",
       "      <td>10</td>\n",
       "      <td>0.281725</td>\n",
       "    </tr>\n",
       "  </tbody>\n",
       "</table>\n",
       "</div>"
      ],
      "text/plain": [
       "   rank_test_score  max_depth  mean_test_score\n",
       "4                1        500         0.549375\n",
       "3                2        200         0.487300\n",
       "2                3        100         0.430733\n",
       "1                4         50         0.367268\n",
       "0                5         10         0.281725"
      ]
     },
     "execution_count": 35,
     "metadata": {},
     "output_type": "execute_result"
    }
   ],
   "source": [
    "bag_rf_results = pd.DataFrame(gs_bag_rf.cv_results_)[['rank_test_score', 'params', 'mean_test_score']]\n",
    "bag_rf_results['max_depth'] = bag_rf_results['params'].apply(lambda x: x['rand_for__max_depth'])\n",
    "bag_rf_results[['rank_test_score', 'max_depth', 'mean_test_score']].sort_values(by='rank_test_score')"
   ]
  },
  {
   "cell_type": "markdown",
   "metadata": {},
   "source": [
    "Для модели случайного леса подбирала только гиперпараметр max_depth, средняя оценка f1 для глубины 500 доходит лишь до 0.55, что гораздо меньше, чем у логистической регрессии."
   ]
  },
  {
   "cell_type": "markdown",
   "metadata": {},
   "source": [
    "#### LGBMClassifier"
   ]
  },
  {
   "cell_type": "code",
   "execution_count": 36,
   "metadata": {},
   "outputs": [],
   "source": [
    "pipe_bag_lgbm = Pipeline([('count_vect', CountVectorizer(dtype=np.float32, ngram_range=(1, 2))), ('lgbm', LGBMClassifier())])"
   ]
  },
  {
   "cell_type": "code",
   "execution_count": 37,
   "metadata": {
    "scrolled": false
   },
   "outputs": [
    {
     "name": "stdout",
     "output_type": "stream",
     "text": [
      "CPU times: total: 4min 39s\n",
      "Wall time: 26min 6s\n"
     ]
    },
    {
     "data": {
      "text/plain": [
       "GridSearchCV(cv=5,\n",
       "             estimator=Pipeline(steps=[('count_vect',\n",
       "                                        CountVectorizer(dtype=<class 'numpy.float32'>,\n",
       "                                                        ngram_range=(1, 2))),\n",
       "                                       ('lgbm', LGBMClassifier())]),\n",
       "             n_jobs=-1,\n",
       "             param_grid={'lgbm__class_weight': ['balanced'],\n",
       "                         'lgbm__max_depth': range(4, 21, 4),\n",
       "                         'lgbm__n_estimators': [10, 50, 100, 200],\n",
       "                         'lgbm__n_jobs': [-1], 'lgbm__objective': ['binary'],\n",
       "                         'lgbm__random_state': [42]},\n",
       "             scoring='f1')"
      ]
     },
     "execution_count": 37,
     "metadata": {},
     "output_type": "execute_result"
    }
   ],
   "source": [
    "%%time\n",
    "param_grid = {'lgbm__n_estimators': [10, 50, 100, 200], \n",
    "              'lgbm__max_depth': range(4, 21, 4), \n",
    "              'lgbm__random_state': [RANDOM_STATE],\n",
    "              'lgbm__class_weight': ['balanced'], \n",
    "              'lgbm__objective': ['binary'],\n",
    "              'lgbm__n_jobs': [-1]}\n",
    "gs_bag_lgbm = GridSearchCV(estimator=pipe_bag_lgbm, \n",
    "                           param_grid=param_grid, \n",
    "                           scoring='f1',\n",
    "                           cv=5,\n",
    "                           n_jobs=-1)\n",
    "gs_bag_lgbm.fit(X_train, y_train)"
   ]
  },
  {
   "cell_type": "code",
   "execution_count": 38,
   "metadata": {},
   "outputs": [
    {
     "data": {
      "text/html": [
       "<div>\n",
       "<style scoped>\n",
       "    .dataframe tbody tr th:only-of-type {\n",
       "        vertical-align: middle;\n",
       "    }\n",
       "\n",
       "    .dataframe tbody tr th {\n",
       "        vertical-align: top;\n",
       "    }\n",
       "\n",
       "    .dataframe thead th {\n",
       "        text-align: right;\n",
       "    }\n",
       "</style>\n",
       "<table border=\"1\" class=\"dataframe\">\n",
       "  <thead>\n",
       "    <tr style=\"text-align: right;\">\n",
       "      <th></th>\n",
       "      <th>rank_test_score</th>\n",
       "      <th>max_depth</th>\n",
       "      <th>n_estimators</th>\n",
       "      <th>mean_test_score</th>\n",
       "    </tr>\n",
       "  </thead>\n",
       "  <tbody>\n",
       "    <tr>\n",
       "      <th>19</th>\n",
       "      <td>1</td>\n",
       "      <td>20</td>\n",
       "      <td>200</td>\n",
       "      <td>0.756335</td>\n",
       "    </tr>\n",
       "    <tr>\n",
       "      <th>15</th>\n",
       "      <td>2</td>\n",
       "      <td>16</td>\n",
       "      <td>200</td>\n",
       "      <td>0.755071</td>\n",
       "    </tr>\n",
       "    <tr>\n",
       "      <th>11</th>\n",
       "      <td>3</td>\n",
       "      <td>12</td>\n",
       "      <td>200</td>\n",
       "      <td>0.754198</td>\n",
       "    </tr>\n",
       "    <tr>\n",
       "      <th>7</th>\n",
       "      <td>4</td>\n",
       "      <td>8</td>\n",
       "      <td>200</td>\n",
       "      <td>0.745278</td>\n",
       "    </tr>\n",
       "    <tr>\n",
       "      <th>18</th>\n",
       "      <td>5</td>\n",
       "      <td>20</td>\n",
       "      <td>100</td>\n",
       "      <td>0.741631</td>\n",
       "    </tr>\n",
       "    <tr>\n",
       "      <th>14</th>\n",
       "      <td>6</td>\n",
       "      <td>16</td>\n",
       "      <td>100</td>\n",
       "      <td>0.740639</td>\n",
       "    </tr>\n",
       "    <tr>\n",
       "      <th>10</th>\n",
       "      <td>7</td>\n",
       "      <td>12</td>\n",
       "      <td>100</td>\n",
       "      <td>0.735417</td>\n",
       "    </tr>\n",
       "    <tr>\n",
       "      <th>6</th>\n",
       "      <td>8</td>\n",
       "      <td>8</td>\n",
       "      <td>100</td>\n",
       "      <td>0.727470</td>\n",
       "    </tr>\n",
       "    <tr>\n",
       "      <th>3</th>\n",
       "      <td>9</td>\n",
       "      <td>4</td>\n",
       "      <td>200</td>\n",
       "      <td>0.726787</td>\n",
       "    </tr>\n",
       "    <tr>\n",
       "      <th>17</th>\n",
       "      <td>10</td>\n",
       "      <td>20</td>\n",
       "      <td>50</td>\n",
       "      <td>0.724127</td>\n",
       "    </tr>\n",
       "  </tbody>\n",
       "</table>\n",
       "</div>"
      ],
      "text/plain": [
       "    rank_test_score  max_depth  n_estimators  mean_test_score\n",
       "19                1         20           200         0.756335\n",
       "15                2         16           200         0.755071\n",
       "11                3         12           200         0.754198\n",
       "7                 4          8           200         0.745278\n",
       "18                5         20           100         0.741631\n",
       "14                6         16           100         0.740639\n",
       "10                7         12           100         0.735417\n",
       "6                 8          8           100         0.727470\n",
       "3                 9          4           200         0.726787\n",
       "17               10         20            50         0.724127"
      ]
     },
     "execution_count": 38,
     "metadata": {},
     "output_type": "execute_result"
    }
   ],
   "source": [
    "bag_lgbm_results = pd.DataFrame(gs_bag_lgbm.cv_results_)[['rank_test_score', 'params', 'mean_test_score']]\n",
    "bag_lgbm_results['max_depth'] = bag_lgbm_results['params'].apply(lambda x: x['lgbm__max_depth'])\n",
    "bag_lgbm_results['n_estimators'] = bag_lgbm_results['params'].apply(lambda x: x['lgbm__n_estimators'])\n",
    "bag_lgbm_results[['rank_test_score', 'max_depth', 'n_estimators', 'mean_test_score']].sort_values(by='rank_test_score').head(10)"
   ]
  },
  {
   "cell_type": "markdown",
   "metadata": {},
   "source": [
    "Для модели градиентного бустинга подбирала только гиперпараметры n_estimators, max_depth, лучшие результаты f1 были получены для n_estimators = 200, max_depth не так сильно влияет на результат (max_depth брала небольшие, чтобы не переобучиться). Возможно, если еще увеличить n_estimators, то значение f1 вырастет до показателей логистической регрессии, но при этом очень возрастет время обучения."
   ]
  },
  {
   "cell_type": "markdown",
   "metadata": {},
   "source": [
    "#### Выводы"
   ]
  },
  {
   "cell_type": "markdown",
   "metadata": {},
   "source": [
    "Были исследованы модели логистической регрессии, случайного леса, градиентного бустинга (LGBM). Лучшая оценка f1 на кросс-валидации с использованием мешка слов получена для логистической регрессии с параметрами по умолчанию."
   ]
  },
  {
   "cell_type": "markdown",
   "metadata": {},
   "source": [
    "### TF-IDF"
   ]
  },
  {
   "cell_type": "markdown",
   "metadata": {},
   "source": [
    "#### LogisticRegression"
   ]
  },
  {
   "cell_type": "code",
   "execution_count": 39,
   "metadata": {},
   "outputs": [],
   "source": [
    "pipe_tfidf_lr = Pipeline([('tfidf_vect', TfidfVectorizer(ngram_range=(1, 2))), ('log_reg', LogisticRegression())])"
   ]
  },
  {
   "cell_type": "markdown",
   "metadata": {},
   "source": [
    "Создала матрицу cо значениями TF-IDF, используя сами слова из комментариев обучающей выборки и биграммы, составленные по комментариям обучающей выборки. В качестве модели выбрала логистическую регрессию."
   ]
  },
  {
   "cell_type": "code",
   "execution_count": 40,
   "metadata": {},
   "outputs": [
    {
     "name": "stdout",
     "output_type": "stream",
     "text": [
      "CPU times: total: 1min 14s\n",
      "Wall time: 9min 31s\n"
     ]
    },
    {
     "data": {
      "text/plain": [
       "GridSearchCV(cv=5,\n",
       "             estimator=Pipeline(steps=[('tfidf_vect',\n",
       "                                        TfidfVectorizer(ngram_range=(1, 2))),\n",
       "                                       ('log_reg', LogisticRegression())]),\n",
       "             n_jobs=-1,\n",
       "             param_grid={'log_reg__C': [0.1, 1, 10, 100, 200, 500],\n",
       "                         'log_reg__class_weight': ['balanced']},\n",
       "             scoring='f1')"
      ]
     },
     "execution_count": 40,
     "metadata": {},
     "output_type": "execute_result"
    }
   ],
   "source": [
    "%%time\n",
    "param_grid = {'log_reg__C': [0.1, 1, 10, 100, 200, 500],\n",
    "              'log_reg__class_weight': ['balanced']}\n",
    "gs_tfidf_lr = GridSearchCV(estimator=pipe_tfidf_lr,\n",
    "                           param_grid=param_grid,\n",
    "                           scoring='f1',\n",
    "                           cv=5,\n",
    "                           n_jobs=-1)\n",
    "gs_tfidf_lr.fit(X_train, y_train)"
   ]
  },
  {
   "cell_type": "code",
   "execution_count": 41,
   "metadata": {},
   "outputs": [
    {
     "data": {
      "text/html": [
       "<div>\n",
       "<style scoped>\n",
       "    .dataframe tbody tr th:only-of-type {\n",
       "        vertical-align: middle;\n",
       "    }\n",
       "\n",
       "    .dataframe tbody tr th {\n",
       "        vertical-align: top;\n",
       "    }\n",
       "\n",
       "    .dataframe thead th {\n",
       "        text-align: right;\n",
       "    }\n",
       "</style>\n",
       "<table border=\"1\" class=\"dataframe\">\n",
       "  <thead>\n",
       "    <tr style=\"text-align: right;\">\n",
       "      <th></th>\n",
       "      <th>rank_test_score</th>\n",
       "      <th>C</th>\n",
       "      <th>mean_test_score</th>\n",
       "    </tr>\n",
       "  </thead>\n",
       "  <tbody>\n",
       "    <tr>\n",
       "      <th>3</th>\n",
       "      <td>1</td>\n",
       "      <td>100.0</td>\n",
       "      <td>0.791901</td>\n",
       "    </tr>\n",
       "    <tr>\n",
       "      <th>4</th>\n",
       "      <td>2</td>\n",
       "      <td>200.0</td>\n",
       "      <td>0.791637</td>\n",
       "    </tr>\n",
       "    <tr>\n",
       "      <th>5</th>\n",
       "      <td>3</td>\n",
       "      <td>500.0</td>\n",
       "      <td>0.789904</td>\n",
       "    </tr>\n",
       "    <tr>\n",
       "      <th>2</th>\n",
       "      <td>4</td>\n",
       "      <td>10.0</td>\n",
       "      <td>0.785897</td>\n",
       "    </tr>\n",
       "    <tr>\n",
       "      <th>1</th>\n",
       "      <td>5</td>\n",
       "      <td>1.0</td>\n",
       "      <td>0.750995</td>\n",
       "    </tr>\n",
       "    <tr>\n",
       "      <th>0</th>\n",
       "      <td>6</td>\n",
       "      <td>0.1</td>\n",
       "      <td>0.698119</td>\n",
       "    </tr>\n",
       "  </tbody>\n",
       "</table>\n",
       "</div>"
      ],
      "text/plain": [
       "   rank_test_score      C  mean_test_score\n",
       "3                1  100.0         0.791901\n",
       "4                2  200.0         0.791637\n",
       "5                3  500.0         0.789904\n",
       "2                4   10.0         0.785897\n",
       "1                5    1.0         0.750995\n",
       "0                6    0.1         0.698119"
      ]
     },
     "execution_count": 41,
     "metadata": {},
     "output_type": "execute_result"
    }
   ],
   "source": [
    "tfidf_lr_results = pd.DataFrame(gs_tfidf_lr.cv_results_)[['rank_test_score', 'params', 'mean_test_score']]\n",
    "tfidf_lr_results['C'] = tfidf_lr_results['params'].apply(lambda x: x['log_reg__C'])\n",
    "tfidf_lr_results[['rank_test_score', 'C', 'mean_test_score']].sort_values(by='rank_test_score')"
   ]
  },
  {
   "cell_type": "markdown",
   "metadata": {},
   "source": [
    "Лучшее среднее значение f1 достигнуто для C = 200."
   ]
  },
  {
   "cell_type": "markdown",
   "metadata": {},
   "source": [
    "#### LGBMClassifier"
   ]
  },
  {
   "cell_type": "code",
   "execution_count": 42,
   "metadata": {},
   "outputs": [],
   "source": [
    "pipe_tfidf_lgbm = Pipeline([('tfidf_vect', TfidfVectorizer(dtype=np.float32, ngram_range=(1, 2))), ('lgbm', LGBMClassifier())])"
   ]
  },
  {
   "cell_type": "code",
   "execution_count": 43,
   "metadata": {},
   "outputs": [
    {
     "name": "stdout",
     "output_type": "stream",
     "text": [
      "CPU times: total: 9min 9s\n",
      "Wall time: 37min 8s\n"
     ]
    },
    {
     "data": {
      "text/plain": [
       "GridSearchCV(cv=5,\n",
       "             estimator=Pipeline(steps=[('tfidf_vect',\n",
       "                                        TfidfVectorizer(dtype=<class 'numpy.float32'>,\n",
       "                                                        ngram_range=(1, 2))),\n",
       "                                       ('lgbm', LGBMClassifier())]),\n",
       "             n_jobs=-1,\n",
       "             param_grid={'lgbm__class_weight': ['balanced'],\n",
       "                         'lgbm__max_depth': range(4, 21, 4),\n",
       "                         'lgbm__n_estimators': [10, 50, 100, 200],\n",
       "                         'lgbm__n_jobs': [-1], 'lgbm__objective': ['binary'],\n",
       "                         'lgbm__random_state': [42]},\n",
       "             scoring='f1')"
      ]
     },
     "execution_count": 43,
     "metadata": {},
     "output_type": "execute_result"
    }
   ],
   "source": [
    "%%time\n",
    "param_grid = {'lgbm__n_estimators': [10, 50, 100, 200], \n",
    "              'lgbm__max_depth': range(4, 21, 4), \n",
    "              'lgbm__random_state': [RANDOM_STATE],\n",
    "              'lgbm__class_weight': ['balanced'], \n",
    "              'lgbm__objective': ['binary'],\n",
    "              'lgbm__n_jobs': [-1]}\n",
    "gs_tfidf_lgbm = GridSearchCV(estimator=pipe_tfidf_lgbm, \n",
    "                             param_grid=param_grid, \n",
    "                             scoring='f1',\n",
    "                             cv=5,\n",
    "                             n_jobs=-1)\n",
    "gs_tfidf_lgbm.fit(X_train, y_train)"
   ]
  },
  {
   "cell_type": "code",
   "execution_count": 44,
   "metadata": {},
   "outputs": [
    {
     "data": {
      "text/html": [
       "<div>\n",
       "<style scoped>\n",
       "    .dataframe tbody tr th:only-of-type {\n",
       "        vertical-align: middle;\n",
       "    }\n",
       "\n",
       "    .dataframe tbody tr th {\n",
       "        vertical-align: top;\n",
       "    }\n",
       "\n",
       "    .dataframe thead th {\n",
       "        text-align: right;\n",
       "    }\n",
       "</style>\n",
       "<table border=\"1\" class=\"dataframe\">\n",
       "  <thead>\n",
       "    <tr style=\"text-align: right;\">\n",
       "      <th></th>\n",
       "      <th>rank_test_score</th>\n",
       "      <th>max_depth</th>\n",
       "      <th>n_estimators</th>\n",
       "      <th>mean_test_score</th>\n",
       "    </tr>\n",
       "  </thead>\n",
       "  <tbody>\n",
       "    <tr>\n",
       "      <th>19</th>\n",
       "      <td>1</td>\n",
       "      <td>20</td>\n",
       "      <td>200</td>\n",
       "      <td>0.750972</td>\n",
       "    </tr>\n",
       "    <tr>\n",
       "      <th>15</th>\n",
       "      <td>2</td>\n",
       "      <td>16</td>\n",
       "      <td>200</td>\n",
       "      <td>0.750581</td>\n",
       "    </tr>\n",
       "    <tr>\n",
       "      <th>11</th>\n",
       "      <td>3</td>\n",
       "      <td>12</td>\n",
       "      <td>200</td>\n",
       "      <td>0.746883</td>\n",
       "    </tr>\n",
       "    <tr>\n",
       "      <th>7</th>\n",
       "      <td>4</td>\n",
       "      <td>8</td>\n",
       "      <td>200</td>\n",
       "      <td>0.739603</td>\n",
       "    </tr>\n",
       "    <tr>\n",
       "      <th>14</th>\n",
       "      <td>5</td>\n",
       "      <td>16</td>\n",
       "      <td>100</td>\n",
       "      <td>0.734321</td>\n",
       "    </tr>\n",
       "    <tr>\n",
       "      <th>18</th>\n",
       "      <td>6</td>\n",
       "      <td>20</td>\n",
       "      <td>100</td>\n",
       "      <td>0.734199</td>\n",
       "    </tr>\n",
       "    <tr>\n",
       "      <th>10</th>\n",
       "      <td>7</td>\n",
       "      <td>12</td>\n",
       "      <td>100</td>\n",
       "      <td>0.731337</td>\n",
       "    </tr>\n",
       "    <tr>\n",
       "      <th>3</th>\n",
       "      <td>8</td>\n",
       "      <td>4</td>\n",
       "      <td>200</td>\n",
       "      <td>0.724207</td>\n",
       "    </tr>\n",
       "    <tr>\n",
       "      <th>6</th>\n",
       "      <td>9</td>\n",
       "      <td>8</td>\n",
       "      <td>100</td>\n",
       "      <td>0.723014</td>\n",
       "    </tr>\n",
       "    <tr>\n",
       "      <th>17</th>\n",
       "      <td>10</td>\n",
       "      <td>20</td>\n",
       "      <td>50</td>\n",
       "      <td>0.717541</td>\n",
       "    </tr>\n",
       "  </tbody>\n",
       "</table>\n",
       "</div>"
      ],
      "text/plain": [
       "    rank_test_score  max_depth  n_estimators  mean_test_score\n",
       "19                1         20           200         0.750972\n",
       "15                2         16           200         0.750581\n",
       "11                3         12           200         0.746883\n",
       "7                 4          8           200         0.739603\n",
       "14                5         16           100         0.734321\n",
       "18                6         20           100         0.734199\n",
       "10                7         12           100         0.731337\n",
       "3                 8          4           200         0.724207\n",
       "6                 9          8           100         0.723014\n",
       "17               10         20            50         0.717541"
      ]
     },
     "execution_count": 44,
     "metadata": {},
     "output_type": "execute_result"
    }
   ],
   "source": [
    "tfidf_lgbm_results = pd.DataFrame(gs_tfidf_lgbm.cv_results_)[['rank_test_score', 'params', 'mean_test_score']]\n",
    "tfidf_lgbm_results['max_depth'] = tfidf_lgbm_results['params'].apply(lambda x: x['lgbm__max_depth'])\n",
    "tfidf_lgbm_results['n_estimators'] = tfidf_lgbm_results['params'].apply(lambda x: x['lgbm__n_estimators'])\n",
    "tfidf_lgbm_results[['rank_test_score', 'max_depth', 'n_estimators', 'mean_test_score']].sort_values(by='rank_test_score').head(10)"
   ]
  },
  {
   "cell_type": "markdown",
   "metadata": {},
   "source": [
    "Градиентный бустинг показывает результаты хуже, чем логистическая регрессия."
   ]
  },
  {
   "cell_type": "markdown",
   "metadata": {},
   "source": [
    "#### Выводы"
   ]
  },
  {
   "cell_type": "markdown",
   "metadata": {},
   "source": [
    "Были исследованы модели логистической регрессии и градиентного бустинга (LGBM). Лучшая оценка f1 на кросс-валидации с использованием матрицы cо значениями TF-IDF получена для логистической регрессии с C = 200 и остальными параметрами по умолчанию."
   ]
  },
  {
   "cell_type": "markdown",
   "metadata": {},
   "source": [
    "## Выводы"
   ]
  },
  {
   "cell_type": "markdown",
   "metadata": {},
   "source": [
    "Лучшие результаты f1 на кросс-валидации показала модель логистической регрессии с C = 200 и остальными параметрами по умолчанию с кодировкой текста с помощью TF-IDF. Также логистическая регрессия обучается быстрее других моделей использованных в исследовании."
   ]
  },
  {
   "cell_type": "code",
   "execution_count": 45,
   "metadata": {},
   "outputs": [],
   "source": [
    "best_model = Pipeline([('tfidf_vect', TfidfVectorizer(ngram_range=(1, 2))), ('log_reg', LogisticRegression(C=200))])"
   ]
  },
  {
   "cell_type": "code",
   "execution_count": 46,
   "metadata": {},
   "outputs": [
    {
     "data": {
      "text/plain": [
       "Pipeline(steps=[('tfidf_vect', TfidfVectorizer(ngram_range=(1, 2))),\n",
       "                ('log_reg', LogisticRegression(C=200))])"
      ]
     },
     "execution_count": 46,
     "metadata": {},
     "output_type": "execute_result"
    }
   ],
   "source": [
    "best_model.fit(X_train, y_train)"
   ]
  },
  {
   "cell_type": "code",
   "execution_count": 48,
   "metadata": {},
   "outputs": [],
   "source": [
    "def get_metrics(estimator, X, y): \n",
    "    print('presicion: ', round(precision_score(y, estimator.predict(X)), 4)) \n",
    "    print('recall: ', round(recall_score(y, estimator.predict(X)), 4)) \n",
    "    print('f1: ', round(f1_score(y, estimator.predict(X)), 4))"
   ]
  },
  {
   "cell_type": "code",
   "execution_count": 49,
   "metadata": {},
   "outputs": [
    {
     "name": "stdout",
     "output_type": "stream",
     "text": [
      "Метрики для лучшей модели на обучающей выборке\n",
      "presicion:  0.9978\n",
      "recall:  0.9974\n",
      "f1:  0.9976\n"
     ]
    }
   ],
   "source": [
    "print('Метрики для лучшей модели на обучающей выборке')\n",
    "get_metrics(best_model, X_train, y_train)"
   ]
  },
  {
   "cell_type": "code",
   "execution_count": 50,
   "metadata": {},
   "outputs": [
    {
     "name": "stdout",
     "output_type": "stream",
     "text": [
      "Метрики для лучшей модели на тестовой выборке\n",
      "presicion:  0.8621\n",
      "recall:  0.761\n",
      "f1:  0.8084\n"
     ]
    }
   ],
   "source": [
    "print('Метрики для лучшей модели на тестовой выборке')\n",
    "get_metrics(best_model, X_test, y_test)"
   ]
  },
  {
   "cell_type": "markdown",
   "metadata": {},
   "source": [
    "Метрика f1 на тестовой выборке 0.8084."
   ]
  },
  {
   "cell_type": "code",
   "execution_count": 51,
   "metadata": {},
   "outputs": [],
   "source": [
    "coef = best_model.steps[1][1].coef_[0]\n",
    "vocabulary = best_model.steps[0][1].vocabulary_ \n",
    "importance = []\n",
    "words = []\n",
    "for word in vocabulary:\n",
    "    words.append(word)\n",
    "    importance.append(abs(coef[vocabulary[word]]))\n",
    "feature_importance = pd.Series(data=importance, index=words)"
   ]
  },
  {
   "cell_type": "code",
   "execution_count": 52,
   "metadata": {},
   "outputs": [
    {
     "data": {
      "image/png": "[encoded data removed]",
      "text/plain": [
       "<Figure size 900x600 with 1 Axes>"
      ]
     },
     "metadata": {},
     "output_type": "display_data"
    }
   ],
   "source": [
    "feature_importance.sort_values(ascending=False).head(20).\\\n",
    "plot(kind='bar',\n",
    "      title='Важность слов в разделении токсичных и нетоксичных комментариев',\n",
    "      figsize=(9, 6));"
   ]
  },
  {
   "cell_type": "markdown",
   "metadata": {},
   "source": [
    "Сюдя по графику решающее значение для модели в определении категории комментария представляет наличие или отсутствие в комментарии ненормативной лексики."
   ]
  },
  {
   "cell_type": "markdown",
   "metadata": {},
   "source": [
    "Общий вывод:\n",
    "\n",
    "В моем распоряжении был набор данных с комментариями пользователей и разметкой о токсичности этих комментариев. Передо мной была поставлена задача - обучить модель машиннного обучения классифицировать комментарии на токсичные и нетоксичные.\n",
    "\n",
    "Датасет имел два столбца: text - текст комментария типа object, toxic - столбец разметки типа int64 (0 - комментарий нетоксичный, 1 - комментарий токсичный).\n",
    "\n",
    "Комментарии на английском языке. В датасете 159292 комментария. Пустых ячеек не было. Данные в датасете не сбалансированы, отношение нетоксичных к токсичным 9:1. \n",
    "\n",
    "Комментарии были очищены от лишних символов (оставлены только буквы английского алфавита и цифры) и переведены к нижнему регистру. Затем данные были лемматизированны, из них удалены стоп-слова.\n",
    "\n",
    "Данные были разделены на обучающую и тестовую выборки со стратификацией, чтобы сохранить соотношение классов в обеих выборках.\n",
    "\n",
    "Было исследованно два способа предобработки текста (bag of words, TF-IDF), три типа моделей (логистическая регрессия, случайный лес, градиентный бустинг). Лучшие результаты показали модели логистической регрессии, к тому же они быстрее обучаются, чем остальные исследованные модели. Лучший результат на кросс-валидации был получен для сочетания TF-IDF (слова, биграммы) + LogisticRegression(С=200), эта модель была обучена всем обучающем датасете, f1 на тесте составила 0.791.\n",
    "\n",
    "Были исследованны \"решающие\" слова для модели, ими оказались ненормативные слова."
   ]
  }
 ],
 "metadata": {
  "kernelspec": {
   "display_name": "Python 3 (ipykernel)",
   "language": "python",
   "name": "python3"
  },
  "language_info": {
   "codemirror_mode": {
    "name": "ipython",
    "version": 3
   },
   "file_extension": ".py",
   "mimetype": "text/x-python",
   "name": "python",
   "nbconvert_exporter": "python",
   "pygments_lexer": "ipython3",
   "version": "3.9.16"
  },
  "toc": {
   "base_numbering": 1,
   "nav_menu": {},
   "number_sections": true,
   "sideBar": true,
   "skip_h1_title": true,
   "title_cell": "Содержание",
   "title_sidebar": "Contents",
   "toc_cell": true,
   "toc_position": {
    "height": "calc(100% - 180px)",
    "left": "10px",
    "top": "150px",
    "width": "302.391px"
   },
   "toc_section_display": true,
   "toc_window_display": false
  }
 },
 "nbformat": 4,
 "nbformat_minor": 2
}
